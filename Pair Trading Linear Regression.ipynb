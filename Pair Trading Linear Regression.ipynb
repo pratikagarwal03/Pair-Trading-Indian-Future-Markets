{
 "cells": [
  {
   "cell_type": "code",
   "execution_count": 1,
   "metadata": {},
   "outputs": [],
   "source": [
    "import pandas as pd\n",
    "import numpy as np\n",
    "import math\n",
    "from nsepy import get_history\n",
    "from datetime import date, timedelta\n",
    "import statsmodels.api as sm\n",
    "from statsmodels.tsa.stattools import adfuller"
   ]
  },
  {
   "cell_type": "code",
   "execution_count": 2,
   "metadata": {},
   "outputs": [],
   "source": [
    "def get_pair_data(stock1, stock2, delta=300, end = date.today()):\n",
    "    \n",
    "    start = end - timedelta(delta)\n",
    "    \n",
    "    stk1 = get_history(symbol = stock1, start = start, end = end)\n",
    "    stk2 = get_history(symbol = stock2, start = start, end = end)\n",
    "    \n",
    "    length = min(len(stk1),len(stk2))\n",
    "    stk1 = stk1['Close'][-length:]\n",
    "    stk2 = stk2['Close'][-length:]\n",
    "    \n",
    "    stk1 = stk1.rename('X')\n",
    "    stk2 = stk2.rename('Y')\n",
    "    data = pd.concat([stk1, stk2], axis=1)\n",
    "    \n",
    "    return data"
   ]
  },
  {
   "cell_type": "code",
   "execution_count": 3,
   "metadata": {},
   "outputs": [],
   "source": [
    "def calculate_error_ratio(stk1, stk2):\n",
    "    \n",
    "    data = get_pair_data(stk1, stk2, 500)\n",
    "    \n",
    "    X = data['X']\n",
    "    Y = data['Y']\n",
    "\n",
    "    X = sm.add_constant(X)\n",
    "    model = sm.OLS(Y, X).fit()\n",
    "    \n",
    "    std_err_intercept = model.bse[0]\n",
    "    std_error = RSE(Y,model.predict(X))\n",
    "    \n",
    "    return std_err_intercept/std_error"
   ]
  },
  {
   "cell_type": "code",
   "execution_count": 4,
   "metadata": {},
   "outputs": [],
   "source": [
    "def RSE(y_true, y_predicted):\n",
    "    \"\"\"\n",
    "    - y_true: Actual values\n",
    "    - y_predicted: Predicted values\n",
    "    \"\"\"\n",
    "    y_true = np.array(y_true)\n",
    "    y_predicted = np.array(y_predicted)\n",
    "    RSS = np.sum(np.square(y_true - y_predicted))\n",
    "\n",
    "    rse = math.sqrt(RSS / (len(y_true) - 2))\n",
    "    return rse"
   ]
  },
  {
   "cell_type": "code",
   "execution_count": 5,
   "metadata": {},
   "outputs": [],
   "source": [
    "def stock_by_error_ratio(stk_cmb):\n",
    "    \n",
    "    pair = pd.DataFrame(columns=['Sector','X','Y'])\n",
    "    for i, row in stk_cmb.iterrows():\n",
    "        \n",
    "        print(len(stk_cmb)-i)\n",
    "    \n",
    "        err_ratio_1 = calculate_error_ratio(row['Stock1'], row['Stock2'])\n",
    "        err_ratio_2 = calculate_error_ratio(row['Stock2'], row['Stock1'])\n",
    "    \n",
    "        if(err_ratio_1<err_ratio_2):\n",
    "            pair.loc[len(pair)] = [row['Sector'], row['Stock1'], row['Stock2']]\n",
    "        else:\n",
    "            pair.loc[len(pair)] = [row['Sector'], row['Stock2'], row['Stock1']]\n",
    "        \n",
    "    return pair"
   ]
  },
  {
   "cell_type": "code",
   "execution_count": 6,
   "metadata": {},
   "outputs": [],
   "source": [
    "def prepare_data():\n",
    "    stk_cmb = pd.read_csv('Correlation_NSE_100.csv')\n",
    "    fut_stks = pd.read_csv('Future_Stocks.csv')\n",
    "    fut_stks = fut_stks.Symbol.tolist()\n",
    "\n",
    "    stk_cmb = stk_cmb[(stk_cmb['Stock1'].isin(fut_stks)) & (stk_cmb['Stock2'].isin(fut_stks) & (stk_cmb['Corr_value']>.79))]\n",
    "\n",
    "    stk_cmb = stk_cmb.reset_index(drop=True)\n",
    "    \n",
    "    return stk_cmb"
   ]
  },
  {
   "cell_type": "code",
   "execution_count": 7,
   "metadata": {},
   "outputs": [],
   "source": [
    "#stk_cmb = prepare_data()\n",
    "\n",
    "##Run to get the pair of stock with the lower error ratio\n",
    "\n",
    "#stock_by_err = stock_by_error_ratio(stk_cmb)\n",
    "#stock_by_err.to_csv('Pair_stock_lower_error_ratio.csv', index=False, header = True)"
   ]
  },
  {
   "cell_type": "code",
   "execution_count": 8,
   "metadata": {},
   "outputs": [],
   "source": [
    "def return_adf_pvalue(X, Y):\n",
    "    \n",
    "    X = sm.add_constant(X)\n",
    "    model = sm.OLS(Y, X).fit()\n",
    "    \n",
    "    res = Y-model.predict(X)\n",
    "    \n",
    "    result = adfuller(res, autolag='AIC')\n",
    "    \n",
    "    return result[1]"
   ]
  },
  {
   "cell_type": "code",
   "execution_count": 9,
   "metadata": {},
   "outputs": [],
   "source": [
    "def store_adf_value(pair):\n",
    "    \n",
    "    pair['adf_test_pval'] = np.nan\n",
    "    for i, row in pair.iterrows():\n",
    "        print(len(pair)-i)\n",
    "    \n",
    "        data = get_pair_data(row['X'], row['Y'])\n",
    "        pair.loc[i,'adf_test_pval'] = return_adf_pvalue(data['X'], data['Y'])\n",
    "    return pair"
   ]
  },
  {
   "cell_type": "code",
   "execution_count": 10,
   "metadata": {},
   "outputs": [],
   "source": [
    "pair = pd.read_csv('Pair_stock_lower_error_ratio.csv')\n",
    "#pair = store_adf_value(pair)\n",
    "#pair.to_csv('Pair_stock_lower_error_ratio.csv', index=False, header = True)"
   ]
  },
  {
   "cell_type": "code",
   "execution_count": 11,
   "metadata": {},
   "outputs": [],
   "source": [
    "def check_daily_pair_trade(pair):\n",
    "    \n",
    "    for i,row in pair.iterrows():\n",
    "        print(len(pair) - i)\n",
    "    \n",
    "        for j in range(2,-1,-1):\n",
    "            data = get_pair_data(row['X'], row['Y'], 300, date.today()-timedelta(j))\n",
    "            X = data['X']\n",
    "            Y = data['Y']\n",
    "\n",
    "            X = sm.add_constant(X)\n",
    "            model = sm.OLS(Y, X).fit()\n",
    "    \n",
    "            rse = RSE(Y,model.predict(X))\n",
    "    \n",
    "            std_err = (Y[-1:]-model.predict(X[-1:]))/rse\n",
    "        \n",
    "            if (std_err[0]<=-2.5):\n",
    "            \n",
    "                print('Long:', row['Y'], '(', str(data['Y'][-1:][0]), ') Short:', row['X'],'(', str(data['X'][-1:][0]), ')')\n",
    "                print(std_err)\n",
    "                print('Buy 1 lot of',row['Y'], '& Sell', str(model.params[1]), '* Number of shares of Y of', row['X'])\n",
    "                print('Beta:', str(model.params[1]), 'Intercept:', str(model.params[0]))\n",
    "        \n",
    "            elif(std_err[0]>=2.5):\n",
    "            \n",
    "                print('Long:', row['X'], '(', str(data['X'][-1:][0]), ') Short:', row['Y'],'(', str(data['Y'][-1:][0]), ')')\n",
    "                print(std_err)\n",
    "                print('Sell 1 lot of',row['Y'], '& Buy', str(model.params[1]), '* Number of shares of Y of', row['X'])\n",
    "                print('Beta:', str(model.params[1]), 'Intercept:', str(model.params[0]))"
   ]
  },
  {
   "cell_type": "code",
   "execution_count": 12,
   "metadata": {},
   "outputs": [
    {
     "name": "stdout",
     "output_type": "stream",
     "text": [
      "15\n"
     ]
    },
    {
     "name": "stderr",
     "output_type": "stream",
     "text": [
      "C:\\Users\\pratiaga\\AppData\\Local\\Continuum\\anaconda3\\lib\\site-packages\\numpy\\core\\fromnumeric.py:2495: FutureWarning: Method .ptp is deprecated and will be removed in a future version. Use numpy.ptp instead.\n",
      "  return ptp(axis=axis, out=out, **kwargs)\n"
     ]
    },
    {
     "name": "stdout",
     "output_type": "stream",
     "text": [
      "14\n",
      "13\n",
      "12\n",
      "11\n",
      "10\n",
      "9\n",
      "8\n",
      "7\n",
      "6\n",
      "5\n",
      "Long: PNB ( 27.75 ) Short: INDUSINDBK ( 619.1 )\n",
      "Date\n",
      "2020-10-07   -2.800218\n",
      "dtype: float64\n",
      "Buy 1 lot of PNB & Sell 0.030633819810783804 * Number of shares of Y of INDUSINDBK\n",
      "Beta: 0.030633819810783804 Intercept: 17.387933621808603\n",
      "Long: PNB ( 27.8 ) Short: INDUSINDBK ( 617.7 )\n",
      "Date\n",
      "2020-10-08   -2.706079\n",
      "dtype: float64\n",
      "Buy 1 lot of PNB & Sell 0.030685231983171364 * Number of shares of Y of INDUSINDBK\n",
      "Beta: 0.030685231983171364 Intercept: 17.312506889394356\n",
      "4\n",
      "3\n",
      "2\n",
      "1\n"
     ]
    }
   ],
   "source": [
    "pair = pair[pair['adf_test_pval']<=0.05]\n",
    "pair = pair.reset_index(drop=True)\n",
    "\n",
    "check_daily_pair_trade(pair)"
   ]
  },
  {
   "cell_type": "code",
   "execution_count": null,
   "metadata": {},
   "outputs": [],
   "source": []
  }
 ],
 "metadata": {
  "kernelspec": {
   "display_name": "Python 3 (ipykernel)",
   "language": "python",
   "name": "python3"
  },
  "language_info": {
   "codemirror_mode": {
    "name": "ipython",
    "version": 3
   },
   "file_extension": ".py",
   "mimetype": "text/x-python",
   "name": "python",
   "nbconvert_exporter": "python",
   "pygments_lexer": "ipython3",
   "version": "3.13.5"
  }
 },
 "nbformat": 4,
 "nbformat_minor": 4
}
